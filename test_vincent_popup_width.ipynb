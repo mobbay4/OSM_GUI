








<!DOCTYPE html>
<html lang="en">

<head>
  <meta charset="utf-8">
  <title>Jupyter Notebook Viewer</title>
  <meta name="viewport" content="width=device-width, initial-scale=1.0">
  <meta name="description" content="">
  <meta name="author" content="">
  
  <meta name="robots" content="noindex,nofollow">
  

  <!--NEW RELIC Start Perf Measurement-->
  
  <!--NREND-->

  <!-- Le styles -->
  <link href="/static/build/styles.css" rel="stylesheet">

  <!-- Le HTML5 shim, for IE6-8 support of HTML5 elements -->
  <!--[if lt IE 9]>
    <script src="http://html5shim.googlecode.com/svn/trunk/html5.js"></script>
  <![endif]-->

  <!-- Le fav and touch icons -->
  <link rel="shortcut icon" href="/static/ico/ipynb_icon_16x16.png">
  <link rel="apple-touch-icon-precomposed" sizes="144x144"
        href="/static/ico/apple-touch-icon-144-precomposed.png">
  <link rel="apple-touch-icon-precomposed" sizes="114x114"
        href="/static/ico/apple-touch-icon-114-precomposed.png">
  <link rel="apple-touch-icon-precomposed" sizes="72x72"
        href="/static/ico/apple-touch-icon-72-precomposed.png">
  <link rel="apple-touch-icon-precomposed"
        href="/static/ico/apple-touch-icon-57-precomposed.png">
  
  

  

  
  <meta name="twitter:card" content="summary">
  <meta name="twitter:title" content="Notebook on nbviewer">
  <meta name="twitter:description" content="Check out this Jupyter notebook!">

  
  <meta name="twitter:domain" content="nbviewer.jupyter.org">
  <meta name="twitter:image:src" content="http://ipython.org/ipython-doc/dev/_images/ipynb_icon_128x128.png">

  
    <link href="/static/build/notebook.css" rel="stylesheet">
  

  

  
    <script src="https://cdnjs.cloudflare.com/ajax/libs/mathjax/2.7.1/MathJax.js?config=TeX-AMS_HTML" type="text/javascript">
    </script>
    <script type="text/javascript">
      init_mathjax = function() {
        if (window.MathJax) {
          // MathJax loaded
          MathJax.Hub.Config({
            TeX: {
              equationNumbers: {
                autoNumber: "AMS",
                useLabelIds: true
              }
            },
            tex2jax: {
              inlineMath: [ ['$','$'], ["\\(","\\)"] ],
              displayMath: [ ['$$','$$'], ["\\[","\\]"] ],
              processEscapes: true,
              processEnvironments: true
            },
            displayAlign: 'center',
            "HTML-CSS": {
              styles: {'.MathJax_Display': {"margin": 0}},
              linebreaks: { automatic: true }
            }
          });
          MathJax.Hub.Queue(["Typeset", MathJax.Hub]);
        }
      }
      init_mathjax();
    </script>
  

  
    <script>
      (function() {
        function addWidgetsRenderer() {
          var mimeElement = document.querySelector('script[type="application/vnd.jupyter.widget-view+json"]');
          var scriptElement = document.createElement('script');
          var widgetRendererSrc = 'https://unpkg.com/@jupyter-widgets/html-manager@0.15/dist/embed-amd.js';
          var widgetState;

          try {
            widgetState = mimeElement && JSON.parse(mimeElement.innerHTML);

            if (widgetState && (widgetState.version_major < 2 || !widgetState.version_major)) {
              widgetRendererSrc = 'https://unpkg.com/jupyter-js-widgets@2.1/dist/embed.js';
            }
          } catch(e) {}

          scriptElement.src = widgetRendererSrc;
          document.body.appendChild(scriptElement);
        }

        document.addEventListener('DOMContentLoaded', addWidgetsRenderer);
      }());
    </script>
  

</head>

<body class="nbviewer">

  <!-- These are loaded at the top of the body so they are available to
       notebook cells when they are loaded below. -->
  <script src="/static/components/jquery/dist/jquery.min.js"></script>
  <script src="/static/components/requirejs/require.js"></script>
  <script src="/static/components/moment/min/moment.min.js"></script>
<!-- Navbar
================================================== -->
  <nav id="menubar" class="navbar navbar-default navbar-fixed-top" data-spy="affix">
    <div class="container">
      <div class="navbar-header">
        <button type="button" class="navbar-toggle collapsed" data-toggle="collapse" data-target=".navbar-collapse">
          <span class="sr-only">Toggle navigation</span>
          <i class="fa fa-bars"></i>
        </button>
        <a class="navbar-brand" href="/">
          <img src="/static/img/nav_logo.svg" width="159"/>
        </a>
      </div>

      <div class="collapse navbar-collapse">
        <ul class="nav navbar-nav navbar-right">
          <li>
            <a class="active" href="https://jupyter.org">JUPYTER</a>
          </li>
          <li>
    <a href="/faq" title="FAQ" >
      
        <span>FAQ</span>
      
    </a>
  </li>

          
  
    
  
    
      
        <li>
    <a href="script/github/ocefpaf/folium_notebooks/blob/master/test_vincent_popup_width.ipynb" title="View as Code" >
      <span class="fa fa-code fa-2x menu-icon"></span>
      <span class="menu-text">View as Code</span>
    </a>
  </li>
      
    
  

  
    <li>
    <a href="#" title="Iris (Python 2) Kernel" >
      <span class="fa fa-server fa-2x menu-icon"></span>
      <span class="menu-text">Iris (Python 2) Kernel</span>
    </a>
  </li>
  

  
    <li>
    <a href="https://github.com/ocefpaf/folium_notebooks/blob/master/test_vincent_popup_width.ipynb" title="View on GitHub" >
      <span class="fa fa-github fa-2x menu-icon"></span>
      <span class="menu-text">View on GitHub</span>
    </a>
  </li>
  

  
    <li>
    <a href="https://mybinder.org/v2/gh/ocefpaf/folium_notebooks/master?filepath=test_vincent_popup_width.ipynb" title="Execute on Binder" >
      <span class="fa fa-icon-binder fa-2x menu-icon"></span>
      <span class="menu-text">Execute on Binder</span>
    </a>
  </li>
  

  <li>
    <a href="https://raw.githubusercontent.com/ocefpaf/folium_notebooks/master/test_vincent_popup_width.ipynb" title="Download Notebook" download>
      <span class="fa fa-download fa-2x menu-icon"></span>
      <span class="menu-text">Download Notebook</span>
    </a>
  </li>

        </ul>
      </div><!-- /.navbar-collapse -->
      
      
    </div>
  </nav>

  <div class="container container-main">
    
  
  <ol class="breadcrumb">
    
      <li>
        <a href="/github/ocefpaf/folium_notebooks/tree/master">folium_notebooks</a>
      </li>
    
      <li>
        <a href="/github/ocefpaf/folium_notebooks/tree/master/test_vincent_popup_width.ipynb">test_vincent_popup_width.ipynb</a>
      </li>
    
  </ol>
  
  <div id="notebook">
    <div id="notebook-container">
      <div class="cell border-box-sizing code_cell rendered">
<div class="input">
<div class="prompt input_prompt">In&nbsp;[1]:</div>
<div class="inner_cell">
    <div class="input_area">
<div class=" highlight hl-ipython2"><pre><span></span><span class="kn">import</span> <span class="nn">folium</span>

<span class="nb">print</span><span class="p">(</span><span class="n">folium</span><span class="o">.</span><span class="vm">__file__</span><span class="p">)</span>
<span class="nb">print</span><span class="p">(</span><span class="n">folium</span><span class="o">.</span><span class="n">__version__</span><span class="p">)</span>
</pre></div>

    </div>
</div>
</div>

<div class="output_wrapper">
<div class="output">


<div class="output_area">

    <div class="prompt"></div>


<div class="output_subarea output_stream output_stdout output_text">
<pre>/home/filipe/.virtualenvs/iris/lib/python2.7/site-packages/folium/__init__.py
0.2.0
</pre>
</div>
</div>

</div>
</div>

</div>
<div class="cell border-box-sizing code_cell rendered">
<div class="input">
<div class="prompt input_prompt">In&nbsp;[2]:</div>
<div class="inner_cell">
    <div class="input_area">
<div class=" highlight hl-ipython2"><pre><span></span><span class="kn">import</span> <span class="nn">json</span>

<span class="kn">import</span> <span class="nn">folium</span>
<span class="kn">import</span> <span class="nn">vincent</span>
<span class="kn">import</span> <span class="nn">numpy</span> <span class="k">as</span> <span class="nn">np</span>
<span class="kn">import</span> <span class="nn">pandas</span> <span class="k">as</span> <span class="nn">pd</span>


<span class="n">sales</span> <span class="o">=</span> <span class="n">folium</span><span class="o">.</span><span class="n">Map</span><span class="p">(</span><span class="n">location</span><span class="o">=</span><span class="p">[</span><span class="mf">51.5</span><span class="p">,</span> <span class="mi">0</span><span class="p">],</span> <span class="n">zoom_start</span><span class="o">=</span><span class="mi">7</span><span class="p">,</span> <span class="n">tiles</span><span class="o">=</span><span class="s1">&#39;stamentoner&#39;</span><span class="p">)</span>


<span class="k">def</span> <span class="nf">make_hex_color</span><span class="p">(</span><span class="n">mn</span><span class="p">,</span> <span class="n">mx</span><span class="p">,</span> <span class="n">value</span><span class="p">):</span>
    <span class="sd">&quot;&quot;&quot;Make a black -&gt; red hex colour.&quot;&quot;&quot;</span>
    <span class="k">assert</span> <span class="n">mn</span> <span class="o">&lt;=</span> <span class="n">value</span>
    <span class="k">assert</span> <span class="n">value</span> <span class="o">&lt;=</span> <span class="n">mx</span>
    <span class="n">percent</span> <span class="o">=</span> <span class="p">(</span><span class="mi">1</span><span class="o">/</span><span class="p">(</span><span class="n">mx</span><span class="o">-</span><span class="n">mn</span><span class="p">))</span> <span class="o">*</span> <span class="p">(</span><span class="n">value</span><span class="o">-</span><span class="n">mn</span><span class="p">)</span>
    <span class="n">red_in_hex_range</span> <span class="o">=</span> <span class="nb">int</span><span class="p">(</span><span class="mi">255</span> <span class="o">*</span> <span class="n">percent</span><span class="p">)</span>
    <span class="n">color</span> <span class="o">=</span> <span class="s2">&quot;#</span><span class="si">{:02x}</span><span class="s2">0000&quot;</span><span class="o">.</span><span class="n">format</span><span class="p">(</span><span class="n">red_in_hex_range</span><span class="p">)</span>
    <span class="k">return</span> <span class="n">color</span>


<span class="n">prices</span> <span class="o">=</span> <span class="n">np</span><span class="o">.</span><span class="n">random</span><span class="o">.</span><span class="n">uniform</span><span class="p">(</span><span class="n">low</span><span class="o">=</span><span class="mi">100000</span><span class="p">,</span> <span class="n">high</span><span class="o">=</span><span class="mi">10000000</span><span class="p">,</span> <span class="n">size</span><span class="o">=</span><span class="mi">12</span><span class="p">)</span><span class="o">.</span><span class="n">astype</span><span class="p">(</span><span class="n">np</span><span class="o">.</span><span class="n">int_</span><span class="p">)</span>
<span class="n">df</span> <span class="o">=</span> <span class="n">pd</span><span class="o">.</span><span class="n">DataFrame</span><span class="p">({</span><span class="s1">&#39;price&#39;</span><span class="p">:</span> <span class="n">prices</span><span class="p">})</span>

<span class="n">bar</span> <span class="o">=</span> <span class="n">vincent</span><span class="o">.</span><span class="n">Line</span><span class="p">(</span><span class="n">df</span><span class="p">[</span><span class="s1">&#39;price&#39;</span><span class="p">],</span> <span class="n">width</span><span class="o">=</span><span class="mi">200</span><span class="p">,</span> <span class="n">height</span><span class="o">=</span><span class="mi">150</span><span class="p">)</span>
<span class="n">bar</span><span class="o">.</span><span class="n">axis_titles</span><span class="p">(</span><span class="n">x</span><span class="o">=</span><span class="s1">&#39;Month&#39;</span><span class="p">,</span> <span class="n">y</span><span class="o">=</span><span class="s1">&#39;&#39;</span><span class="p">)</span>

    
<span class="n">vega</span> <span class="o">=</span> <span class="n">folium</span><span class="o">.</span><span class="n">Vega</span><span class="p">(</span><span class="n">json</span><span class="o">.</span><span class="n">loads</span><span class="p">(</span><span class="n">bar</span><span class="o">.</span><span class="n">to_json</span><span class="p">()))</span>
<span class="n">popup</span> <span class="o">=</span> <span class="n">folium</span><span class="o">.</span><span class="n">Popup</span><span class="p">(</span><span class="n">vega</span><span class="p">,</span> <span class="n">max_width</span><span class="o">=</span><span class="mi">300</span><span class="p">)</span>

<span class="n">circle</span> <span class="o">=</span> <span class="n">folium</span><span class="o">.</span><span class="n">CircleMarker</span><span class="p">(</span><span class="n">location</span><span class="o">=</span><span class="p">[</span><span class="mf">51.521282</span><span class="p">,</span> <span class="o">-</span><span class="mf">0.115279</span><span class="p">],</span>
                             <span class="n">radius</span><span class="o">=</span><span class="mi">5000</span><span class="p">,</span>
                             <span class="n">color</span><span class="o">=</span><span class="s1">&#39;#ff0000&#39;</span><span class="p">,</span>
                             <span class="n">fill_color</span><span class="o">=</span><span class="n">make_hex_color</span><span class="p">(</span><span class="mi">0</span><span class="p">,</span> <span class="mi">1000000</span><span class="p">,</span> <span class="mi">1000000</span><span class="p">),</span>
                             <span class="n">popup</span><span class="o">=</span><span class="n">popup</span><span class="p">)</span>

<span class="n">sales</span><span class="o">.</span><span class="n">add_children</span><span class="p">(</span><span class="n">circle</span><span class="p">)</span>
<span class="n">sales</span>
</pre></div>

    </div>
</div>
</div>

<div class="output_wrapper">
<div class="output">


<div class="output_area">

    <div class="prompt"></div>


<div class="output_subarea output_text output_error">
<pre><span class="ansi-red-intense-fg ansi-bold">---------------------------------------------------------------------------</span>
<span class="ansi-red-intense-fg ansi-bold">AttributeError</span>                            Traceback (most recent call last)
<span class="ansi-green-intense-fg ansi-bold">/home/filipe/.virtualenvs/iris/lib/python2.7/site-packages/IPython/core/formatters.pyc</span> in <span class="ansi-cyan-fg">__call__</span><span class="ansi-blue-intense-fg ansi-bold">(self, obj)</span>
<span class="ansi-green-fg">    341</span>             method <span class="ansi-yellow-intense-fg ansi-bold">=</span> _safe_get_formatter_method<span class="ansi-yellow-intense-fg ansi-bold">(</span>obj<span class="ansi-yellow-intense-fg ansi-bold">,</span> self<span class="ansi-yellow-intense-fg ansi-bold">.</span>print_method<span class="ansi-yellow-intense-fg ansi-bold">)</span>
<span class="ansi-green-fg">    342</span>             <span class="ansi-green-intense-fg ansi-bold">if</span> method <span class="ansi-green-intense-fg ansi-bold">is</span> <span class="ansi-green-intense-fg ansi-bold">not</span> None<span class="ansi-yellow-intense-fg ansi-bold">:</span>
<span class="ansi-green-intense-fg ansi-bold">--&gt; 343</span><span class="ansi-yellow-intense-fg ansi-bold">                 </span><span class="ansi-green-intense-fg ansi-bold">return</span> method<span class="ansi-yellow-intense-fg ansi-bold">(</span><span class="ansi-yellow-intense-fg ansi-bold">)</span>
<span class="ansi-green-fg">    344</span>             <span class="ansi-green-intense-fg ansi-bold">return</span> None
<span class="ansi-green-fg">    345</span>         <span class="ansi-green-intense-fg ansi-bold">else</span><span class="ansi-yellow-intense-fg ansi-bold">:</span>

<span class="ansi-green-intense-fg ansi-bold">/home/filipe/.virtualenvs/iris/lib/python2.7/site-packages/folium/map.py</span> in <span class="ansi-cyan-fg">_repr_html_</span><span class="ansi-blue-intense-fg ansi-bold">(self, **kwargs)</span>
<span class="ansi-green-fg">    177</span>             self<span class="ansi-yellow-intense-fg ansi-bold">.</span>_parent <span class="ansi-yellow-intense-fg ansi-bold">=</span> None
<span class="ansi-green-fg">    178</span>         <span class="ansi-green-intense-fg ansi-bold">else</span><span class="ansi-yellow-intense-fg ansi-bold">:</span>
<span class="ansi-green-intense-fg ansi-bold">--&gt; 179</span><span class="ansi-yellow-intense-fg ansi-bold">             </span>out <span class="ansi-yellow-intense-fg ansi-bold">=</span> self<span class="ansi-yellow-intense-fg ansi-bold">.</span>_parent<span class="ansi-yellow-intense-fg ansi-bold">.</span>_repr_html_<span class="ansi-yellow-intense-fg ansi-bold">(</span><span class="ansi-yellow-intense-fg ansi-bold">**</span>kwargs<span class="ansi-yellow-intense-fg ansi-bold">)</span>
<span class="ansi-green-fg">    180</span>         <span class="ansi-green-intense-fg ansi-bold">return</span> out
<span class="ansi-green-fg">    181</span> 

<span class="ansi-green-intense-fg ansi-bold">/home/filipe/.virtualenvs/iris/lib/python2.7/site-packages/folium/element.py</span> in <span class="ansi-cyan-fg">_repr_html_</span><span class="ansi-blue-intense-fg ansi-bold">(self, **kwargs)</span>
<span class="ansi-green-fg">    367</span> 
<span class="ansi-green-fg">    368</span>         &#34;&#34;&#34;
<span class="ansi-green-intense-fg ansi-bold">--&gt; 369</span><span class="ansi-yellow-intense-fg ansi-bold">         </span>html <span class="ansi-yellow-intense-fg ansi-bold">=</span> self<span class="ansi-yellow-intense-fg ansi-bold">.</span>render<span class="ansi-yellow-intense-fg ansi-bold">(</span><span class="ansi-yellow-intense-fg ansi-bold">**</span>kwargs<span class="ansi-yellow-intense-fg ansi-bold">)</span>
<span class="ansi-green-fg">    370</span>         html <span class="ansi-yellow-intense-fg ansi-bold">=</span> <span class="ansi-blue-intense-fg ansi-bold">&#34;data:text/html;base64,&#34;</span> <span class="ansi-yellow-intense-fg ansi-bold">+</span> base64<span class="ansi-yellow-intense-fg ansi-bold">.</span>b64encode<span class="ansi-yellow-intense-fg ansi-bold">(</span>html<span class="ansi-yellow-intense-fg ansi-bold">.</span>encode<span class="ansi-yellow-intense-fg ansi-bold">(</span><span class="ansi-blue-intense-fg ansi-bold">&#39;utf8&#39;</span><span class="ansi-yellow-intense-fg ansi-bold">)</span><span class="ansi-yellow-intense-fg ansi-bold">)</span><span class="ansi-yellow-intense-fg ansi-bold">.</span>decode<span class="ansi-yellow-intense-fg ansi-bold">(</span><span class="ansi-blue-intense-fg ansi-bold">&#39;utf8&#39;</span><span class="ansi-yellow-intense-fg ansi-bold">)</span>  <span class="ansi-red-intense-fg ansi-bold"># noqa</span>
<span class="ansi-green-fg">    371</span> 

<span class="ansi-green-intense-fg ansi-bold">/home/filipe/.virtualenvs/iris/lib/python2.7/site-packages/folium/element.py</span> in <span class="ansi-cyan-fg">render</span><span class="ansi-blue-intense-fg ansi-bold">(self, **kwargs)</span>
<span class="ansi-green-fg">    357</span>         <span class="ansi-blue-intense-fg ansi-bold">&#34;&#34;&#34;Renders the HTML representation of the element.&#34;&#34;&#34;</span>
<span class="ansi-green-fg">    358</span>         <span class="ansi-green-intense-fg ansi-bold">for</span> name<span class="ansi-yellow-intense-fg ansi-bold">,</span> child <span class="ansi-green-intense-fg ansi-bold">in</span> self<span class="ansi-yellow-intense-fg ansi-bold">.</span>_children<span class="ansi-yellow-intense-fg ansi-bold">.</span>items<span class="ansi-yellow-intense-fg ansi-bold">(</span><span class="ansi-yellow-intense-fg ansi-bold">)</span><span class="ansi-yellow-intense-fg ansi-bold">:</span>
<span class="ansi-green-intense-fg ansi-bold">--&gt; 359</span><span class="ansi-yellow-intense-fg ansi-bold">             </span>child<span class="ansi-yellow-intense-fg ansi-bold">.</span>render<span class="ansi-yellow-intense-fg ansi-bold">(</span><span class="ansi-yellow-intense-fg ansi-bold">**</span>kwargs<span class="ansi-yellow-intense-fg ansi-bold">)</span>
<span class="ansi-green-fg">    360</span>         <span class="ansi-green-intense-fg ansi-bold">return</span> self<span class="ansi-yellow-intense-fg ansi-bold">.</span>_template<span class="ansi-yellow-intense-fg ansi-bold">.</span>render<span class="ansi-yellow-intense-fg ansi-bold">(</span>this<span class="ansi-yellow-intense-fg ansi-bold">=</span>self<span class="ansi-yellow-intense-fg ansi-bold">,</span> kwargs<span class="ansi-yellow-intense-fg ansi-bold">=</span>kwargs<span class="ansi-yellow-intense-fg ansi-bold">)</span>
<span class="ansi-green-fg">    361</span> 

<span class="ansi-green-intense-fg ansi-bold">/home/filipe/.virtualenvs/iris/lib/python2.7/site-packages/folium/element.py</span> in <span class="ansi-cyan-fg">render</span><span class="ansi-blue-intense-fg ansi-bold">(self, **kwargs)</span>
<span class="ansi-green-fg">    665</span> 
<span class="ansi-green-fg">    666</span>         <span class="ansi-green-intense-fg ansi-bold">for</span> name<span class="ansi-yellow-intense-fg ansi-bold">,</span> element <span class="ansi-green-intense-fg ansi-bold">in</span> self<span class="ansi-yellow-intense-fg ansi-bold">.</span>_children<span class="ansi-yellow-intense-fg ansi-bold">.</span>items<span class="ansi-yellow-intense-fg ansi-bold">(</span><span class="ansi-yellow-intense-fg ansi-bold">)</span><span class="ansi-yellow-intense-fg ansi-bold">:</span>
<span class="ansi-green-intense-fg ansi-bold">--&gt; 667</span><span class="ansi-yellow-intense-fg ansi-bold">             </span>element<span class="ansi-yellow-intense-fg ansi-bold">.</span>render<span class="ansi-yellow-intense-fg ansi-bold">(</span><span class="ansi-yellow-intense-fg ansi-bold">**</span>kwargs<span class="ansi-yellow-intense-fg ansi-bold">)</span>

<span class="ansi-green-intense-fg ansi-bold">/home/filipe/.virtualenvs/iris/lib/python2.7/site-packages/folium/element.py</span> in <span class="ansi-cyan-fg">render</span><span class="ansi-blue-intense-fg ansi-bold">(self, **kwargs)</span>
<span class="ansi-green-fg">    665</span> 
<span class="ansi-green-fg">    666</span>         <span class="ansi-green-intense-fg ansi-bold">for</span> name<span class="ansi-yellow-intense-fg ansi-bold">,</span> element <span class="ansi-green-intense-fg ansi-bold">in</span> self<span class="ansi-yellow-intense-fg ansi-bold">.</span>_children<span class="ansi-yellow-intense-fg ansi-bold">.</span>items<span class="ansi-yellow-intense-fg ansi-bold">(</span><span class="ansi-yellow-intense-fg ansi-bold">)</span><span class="ansi-yellow-intense-fg ansi-bold">:</span>
<span class="ansi-green-intense-fg ansi-bold">--&gt; 667</span><span class="ansi-yellow-intense-fg ansi-bold">             </span>element<span class="ansi-yellow-intense-fg ansi-bold">.</span>render<span class="ansi-yellow-intense-fg ansi-bold">(</span><span class="ansi-yellow-intense-fg ansi-bold">**</span>kwargs<span class="ansi-yellow-intense-fg ansi-bold">)</span>

<span class="ansi-green-intense-fg ansi-bold">/home/filipe/.virtualenvs/iris/lib/python2.7/site-packages/folium/map.py</span> in <span class="ansi-cyan-fg">render</span><span class="ansi-blue-intense-fg ansi-bold">(self, **kwargs)</span>
<span class="ansi-green-fg">    546</span> 
<span class="ansi-green-fg">    547</span>         figure.script.add_children(Element(
<span class="ansi-green-intense-fg ansi-bold">--&gt; 548</span><span class="ansi-yellow-intense-fg ansi-bold">             self._template.render(this=self, kwargs=kwargs)),
</span><span class="ansi-green-fg">    549</span>             name=self.get_name())
<span class="ansi-green-fg">    550</span> 

<span class="ansi-green-intense-fg ansi-bold">/home/filipe/.virtualenvs/iris/lib/python2.7/site-packages/jinja2/environment.pyc</span> in <span class="ansi-cyan-fg">render</span><span class="ansi-blue-intense-fg ansi-bold">(self, *args, **kwargs)</span>
<span class="ansi-green-fg">    987</span>         <span class="ansi-green-intense-fg ansi-bold">except</span> Exception<span class="ansi-yellow-intense-fg ansi-bold">:</span>
<span class="ansi-green-fg">    988</span>             exc_info <span class="ansi-yellow-intense-fg ansi-bold">=</span> sys<span class="ansi-yellow-intense-fg ansi-bold">.</span>exc_info<span class="ansi-yellow-intense-fg ansi-bold">(</span><span class="ansi-yellow-intense-fg ansi-bold">)</span>
<span class="ansi-green-intense-fg ansi-bold">--&gt; 989</span><span class="ansi-yellow-intense-fg ansi-bold">         </span><span class="ansi-green-intense-fg ansi-bold">return</span> self<span class="ansi-yellow-intense-fg ansi-bold">.</span>environment<span class="ansi-yellow-intense-fg ansi-bold">.</span>handle_exception<span class="ansi-yellow-intense-fg ansi-bold">(</span>exc_info<span class="ansi-yellow-intense-fg ansi-bold">,</span> True<span class="ansi-yellow-intense-fg ansi-bold">)</span>
<span class="ansi-green-fg">    990</span> 
<span class="ansi-green-fg">    991</span>     <span class="ansi-green-intense-fg ansi-bold">def</span> stream<span class="ansi-yellow-intense-fg ansi-bold">(</span>self<span class="ansi-yellow-intense-fg ansi-bold">,</span> <span class="ansi-yellow-intense-fg ansi-bold">*</span>args<span class="ansi-yellow-intense-fg ansi-bold">,</span> <span class="ansi-yellow-intense-fg ansi-bold">**</span>kwargs<span class="ansi-yellow-intense-fg ansi-bold">)</span><span class="ansi-yellow-intense-fg ansi-bold">:</span>

<span class="ansi-green-intense-fg ansi-bold">/home/filipe/.virtualenvs/iris/lib/python2.7/site-packages/jinja2/environment.pyc</span> in <span class="ansi-cyan-fg">handle_exception</span><span class="ansi-blue-intense-fg ansi-bold">(self, exc_info, rendered, source_hint)</span>
<span class="ansi-green-fg">    752</span>             self<span class="ansi-yellow-intense-fg ansi-bold">.</span>exception_handler<span class="ansi-yellow-intense-fg ansi-bold">(</span>traceback<span class="ansi-yellow-intense-fg ansi-bold">)</span>
<span class="ansi-green-fg">    753</span>         exc_type<span class="ansi-yellow-intense-fg ansi-bold">,</span> exc_value<span class="ansi-yellow-intense-fg ansi-bold">,</span> tb <span class="ansi-yellow-intense-fg ansi-bold">=</span> traceback<span class="ansi-yellow-intense-fg ansi-bold">.</span>standard_exc_info
<span class="ansi-green-intense-fg ansi-bold">--&gt; 754</span><span class="ansi-yellow-intense-fg ansi-bold">         </span>reraise<span class="ansi-yellow-intense-fg ansi-bold">(</span>exc_type<span class="ansi-yellow-intense-fg ansi-bold">,</span> exc_value<span class="ansi-yellow-intense-fg ansi-bold">,</span> tb<span class="ansi-yellow-intense-fg ansi-bold">)</span>
<span class="ansi-green-fg">    755</span> 
<span class="ansi-green-fg">    756</span>     <span class="ansi-green-intense-fg ansi-bold">def</span> join_path<span class="ansi-yellow-intense-fg ansi-bold">(</span>self<span class="ansi-yellow-intense-fg ansi-bold">,</span> template<span class="ansi-yellow-intense-fg ansi-bold">,</span> parent<span class="ansi-yellow-intense-fg ansi-bold">)</span><span class="ansi-yellow-intense-fg ansi-bold">:</span>

<span class="ansi-green-intense-fg ansi-bold">&lt;template&gt;</span> in <span class="ansi-cyan-fg">top-level template code</span><span class="ansi-blue-intense-fg ansi-bold">()</span>

<span class="ansi-green-intense-fg ansi-bold">/home/filipe/.virtualenvs/iris/lib/python2.7/site-packages/folium/features.py</span> in <span class="ansi-cyan-fg">render</span><span class="ansi-blue-intense-fg ansi-bold">(self, **kwargs)</span>
<span class="ansi-green-fg">    214</span>         self<span class="ansi-yellow-intense-fg ansi-bold">.</span>json <span class="ansi-yellow-intense-fg ansi-bold">=</span> json<span class="ansi-yellow-intense-fg ansi-bold">.</span>dumps<span class="ansi-yellow-intense-fg ansi-bold">(</span>self<span class="ansi-yellow-intense-fg ansi-bold">.</span>data<span class="ansi-yellow-intense-fg ansi-bold">)</span>
<span class="ansi-green-fg">    215</span> 
<span class="ansi-green-intense-fg ansi-bold">--&gt; 216</span><span class="ansi-yellow-intense-fg ansi-bold">         self._parent.html.add_children(Element(Template(&#34;&#34;&#34;
</span><span class="ansi-green-fg">    217</span>             <span class="ansi-yellow-intense-fg ansi-bold">&lt;</span>div id<span class="ansi-yellow-intense-fg ansi-bold">=</span><span class="ansi-blue-intense-fg ansi-bold">&#34;{{this.get_name()}}&#34;</span><span class="ansi-yellow-intense-fg ansi-bold">&gt;</span><span class="ansi-yellow-intense-fg ansi-bold">&lt;</span><span class="ansi-yellow-intense-fg ansi-bold">/</span>div<span class="ansi-yellow-intense-fg ansi-bold">&gt;</span>
<span class="ansi-green-fg">    218</span>             &#34;&#34;&#34;).render(this=self, kwargs=kwargs)), name=self.get_name())

<span class="ansi-red-intense-fg ansi-bold">AttributeError</span>: &#39;Element&#39; object has no attribute &#39;html&#39;</pre>
</div>
</div>

<div class="output_area">

    <div class="prompt output_prompt">Out[2]:</div>




<div class="output_text output_subarea output_execute_result">
<pre>&lt;folium.folium.Map at 0x7fee5e948c90&gt;</pre>
</div>

</div>

</div>
</div>

</div>
 


    </div>
  </div>

  </div>


  
    <footer class="footer hidden-print">
      <div class="container">
        <div class="col-md-4">
          <p>
            This website does not host notebooks, it only renders notebooks
            available on other websites.
          </p>
        </div>

        <div class="col-md-4">
          <p>
            Delivered by <a href="https://www.fastly.com/">Fastly</a>,
            Rendered by <a href="https://ovhcloud.com">OVHCloud</a>
          </p>
          <p>
            nbviewer GitHub <a href="https://github.com/jupyter/nbviewer">repository</a>.
          </p>
        </div>

        <div class="col-md-4">
          
  
            
              <p>
                nbviewer version:
                <a href="https://github.com/jupyter/nbviewer/commit/e83752b49e1663d3feb1c157d31fb51451f11c0a">
                  e83752b
                </a>
              </p>
            
          
  
  <p>
    nbconvert version: <a href="https://github.com/jupyter/nbconvert/releases/tag/5.6.1">
      5.6.1
    </a>
  </p>
  

          
  
  
  <p>
    Rendered
    <span class='date' data-date='Fri, 03 Jul 2020 09:23:02 UTC' title='Fri, 03 Jul 2020 09:23:02 UTC'>(Fri, 03 Jul 2020 09:23:02 UTC)</span>
  </p>
  

        </div>
      </div>
    </footer>
  

  <script src="/static/components/bootstrap/js/bootstrap.min.js"></script>
  <script src="/static/components/headroom.js/dist/headroom.min.js"></script>
  <script src="/static/components/headroom.js/dist/jQuery.headroom.min.js"></script>

  
  
  <script>
    $(function(){ $("#menubar").headroom({
      tolerance: 5,
      offset: 205,
      classes: {
        initial: "animated",
        pinned: "slideInDown",
        unpinned: "slideOutUp"
      }
    })});
  </script>


  
  <script>
    (function(i,s,o,g,r,a,m){i['GoogleAnalyticsObject']=r;i[r]=i[r]||function(){
      (i[r].q=i[r].q||[]).push(arguments)},i[r].l=1*new Date();a=s.createElement(o),
      m=s.getElementsByTagName(o)[0];a.async=1;a.src=g;m.parentNode.insertBefore(a,m)
    })(window,document,'script','https://www.google-analytics.com/analytics.js','ga');
    ga('create', 'UA-52617120-5', 'auto',
       {'storage': 'none'});
    ga('set', 'anonymizeIp', true);
    ga('send', 'pageview');
  </script>
  
  <script>
    require({
        paths: {
          moment: "/static/components/moment/min/moment.min.js"
        }
      }, ["moment"], function(moment){
      var date = $("footer .date"),
        m = moment(new Date(date.data('date'))),
        update = function(){ date.text(m.fromNow()); };
      setInterval(update, 61*1000);
      update();
      var w = $(window).scroll(function(event){
        $("body").toggleClass("scrolled", w.scrollTop() > 0);
      });
    });
  </script>

  <!--NEW RELIC Stop Perf Measurement-->
  
  <!--NEW RELIC End-->
</body>
</html>